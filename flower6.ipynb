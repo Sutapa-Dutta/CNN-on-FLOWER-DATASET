{
  "nbformat": 4,
  "nbformat_minor": 0,
  "metadata": {
    "colab": {
      "name": "flower6.ipynb",
      "provenance": []
    },
    "kernelspec": {
      "name": "python3",
      "display_name": "Python 3"
    }
  },
  "cells": [
    {
      "cell_type": "code",
      "metadata": {
        "id": "aISNKLnn43cW",
        "colab_type": "code",
        "colab": {}
      },
      "source": [
        "#TRAINING\n",
        "import pickle\n",
        "import os\n",
        "import numpy as np\n",
        "import matplotlib.pyplot as plt\n",
        "from matplotlib import image\n",
        "from tensorflow.keras import Model\n",
        "from tensorflow.python.keras import Sequential\n",
        "import tensorflow as tf\n",
        "from tensorflow.keras.optimizers import Adam\n",
        "\n"
      ],
      "execution_count": null,
      "outputs": []
    },
    {
      "cell_type": "code",
      "metadata": {
        "id": "Gotlbr0o5289",
        "colab_type": "code",
        "colab": {}
      },
      "source": [
        "from google.colab import drive\n",
        "drive.mount('/content/drive')"
      ],
      "execution_count": null,
      "outputs": []
    },
    {
      "cell_type": "code",
      "metadata": {
        "id": "iXNY9GIe57j9",
        "colab_type": "code",
        "colab": {}
      },
      "source": [
        "import pickle\n",
        "import numpy as np\n",
        "with open('/content/drive/My Drive/t_pickle.pkl', 'rb') as f:\n",
        "  test_data = pickle.load(f)\n",
        "#r=test_data/.255\n",
        "\n",
        "with open('/content/drive/My Drive/t_l_pickle.pkl', 'rb') as f1:\n",
        "  test_label_data = pickle.load(f1)\n",
        "\n",
        "\n",
        "idx2 = np.random.permutation(len(test_data))\n",
        "final_test_data,final_test_label = test_data[idx2], test_label_data[idx2]\n",
        "\n",
        "from sklearn.preprocessing import LabelBinarizer\n",
        "encoder = LabelBinarizer()\n",
        "#print(v_transfomed_label,final_val_label)\n",
        "t_transfomed_label = encoder.fit_transform(final_test_label)\n",
        "\n"
      ],
      "execution_count": null,
      "outputs": []
    },
    {
      "cell_type": "code",
      "metadata": {
        "id": "WfmYVFsO6Kp4",
        "colab_type": "code",
        "colab": {
          "base_uri": "https://localhost:8080/",
          "height": 605
        },
        "outputId": "07c99820-02c9-45cc-8fbe-3b53f6f6dd5b"
      },
      "source": [
        "import tensorflow as tf\n",
        "\n",
        "new_model = tf.keras.models.load_model('/content/drive/My Drive/saved_model1')\n",
        "#new_model.summary()\n",
        "loss, acc = new_model.evaluate(final_test_data,  t_transfomed_label, verbose=2)\n",
        "print('Restored model, accuracy: {:5.2f}%'.format(100*acc))\n",
        "\n",
        "#print(new_model.predict(final_test_data).shape)\n"
      ],
      "execution_count": null,
      "outputs": [
        {
          "output_type": "stream",
          "text": [
            "WARNING:tensorflow:Inconsistent references when loading the checkpoint into this object graph. Either the Trackable object references in the Python program have changed in an incompatible way, or the checkpoint was generated in an incompatible program.\n",
            "\n",
            "Two checkpoint references resolved to different objects (<tensorflow.python.keras.layers.convolutional.Conv2D object at 0x7f0beb5f69b0> and <tensorflow.python.keras.layers.pooling.MaxPooling2D object at 0x7f0beb5a8470>).\n",
            "WARNING:tensorflow:Inconsistent references when loading the checkpoint into this object graph. Either the Trackable object references in the Python program have changed in an incompatible way, or the checkpoint was generated in an incompatible program.\n",
            "\n",
            "Two checkpoint references resolved to different objects (<tensorflow.python.keras.layers.convolutional.Conv2D object at 0x7f0beb5a8a20> and <tensorflow.python.keras.layers.pooling.MaxPooling2D object at 0x7f0beb5ba1d0>).\n",
            "WARNING:tensorflow:Inconsistent references when loading the checkpoint into this object graph. Either the Trackable object references in the Python program have changed in an incompatible way, or the checkpoint was generated in an incompatible program.\n",
            "\n",
            "Two checkpoint references resolved to different objects (<tensorflow.python.keras.layers.convolutional.Conv2D object at 0x7f0beb5ba780> and <tensorflow.python.keras.layers.pooling.MaxPooling2D object at 0x7f0beb5baef0>).\n",
            "WARNING:tensorflow:Inconsistent references when loading the checkpoint into this object graph. Either the Trackable object references in the Python program have changed in an incompatible way, or the checkpoint was generated in an incompatible program.\n",
            "\n",
            "Two checkpoint references resolved to different objects (<tensorflow.python.keras.layers.convolutional.Conv2D object at 0x7f0beb5c04e0> and <tensorflow.python.keras.layers.pooling.MaxPooling2D object at 0x7f0beb5c0c50>).\n",
            "WARNING:tensorflow:Inconsistent references when loading the checkpoint into this object graph. Either the Trackable object references in the Python program have changed in an incompatible way, or the checkpoint was generated in an incompatible program.\n",
            "\n",
            "Two checkpoint references resolved to different objects (<tensorflow.python.keras.layers.core.Dense object at 0x7f0beb5cc550> and <tensorflow.python.keras.layers.core.Dense object at 0x7f0beb5ccc88>).\n",
            "WARNING:tensorflow:Inconsistent references when loading the checkpoint into this object graph. Either the Trackable object references in the Python program have changed in an incompatible way, or the checkpoint was generated in an incompatible program.\n",
            "\n",
            "Two checkpoint references resolved to different objects (<tensorflow.python.keras.layers.convolutional.Conv2D object at 0x7f0beb5a8a20> and <tensorflow.python.keras.layers.pooling.MaxPooling2D object at 0x7f0beb5a8470>).\n",
            "WARNING:tensorflow:Inconsistent references when loading the checkpoint into this object graph. Either the Trackable object references in the Python program have changed in an incompatible way, or the checkpoint was generated in an incompatible program.\n",
            "\n",
            "Two checkpoint references resolved to different objects (<tensorflow.python.keras.layers.convolutional.Conv2D object at 0x7f0beb5ba780> and <tensorflow.python.keras.layers.pooling.MaxPooling2D object at 0x7f0beb5ba1d0>).\n",
            "WARNING:tensorflow:Inconsistent references when loading the checkpoint into this object graph. Either the Trackable object references in the Python program have changed in an incompatible way, or the checkpoint was generated in an incompatible program.\n",
            "\n",
            "Two checkpoint references resolved to different objects (<tensorflow.python.keras.layers.convolutional.Conv2D object at 0x7f0beb5c04e0> and <tensorflow.python.keras.layers.pooling.MaxPooling2D object at 0x7f0beb5baef0>).\n",
            "WARNING:tensorflow:Inconsistent references when loading the checkpoint into this object graph. Either the Trackable object references in the Python program have changed in an incompatible way, or the checkpoint was generated in an incompatible program.\n",
            "\n",
            "Two checkpoint references resolved to different objects (<tensorflow.python.keras.layers.core.Flatten object at 0x7f0beb5cc048> and <tensorflow.python.keras.layers.pooling.MaxPooling2D object at 0x7f0beb5c0c50>).\n",
            "WARNING:tensorflow:Inconsistent references when loading the checkpoint into this object graph. Either the Trackable object references in the Python program have changed in an incompatible way, or the checkpoint was generated in an incompatible program.\n",
            "\n",
            "Two checkpoint references resolved to different objects (<tensorflow.python.keras.layers.core.Dense object at 0x7f0beb5cc550> and <tensorflow.python.keras.layers.core.Flatten object at 0x7f0beb5cc048>).\n",
            "7/7 - 2s - loss: 0.7928 - acc: 0.8838\n",
            "Restored model, accuracy: 88.38%\n"
          ],
          "name": "stdout"
        }
      ]
    },
    {
      "cell_type": "code",
      "metadata": {
        "id": "dVwfOGK46xVl",
        "colab_type": "code",
        "colab": {
          "base_uri": "https://localhost:8080/",
          "height": 567
        },
        "outputId": "1de2edea-821d-485b-d4eb-f47af0622cb4"
      },
      "source": [
        "print(new_model.summary())"
      ],
      "execution_count": null,
      "outputs": [
        {
          "output_type": "stream",
          "text": [
            "Model: \"sequential_2\"\n",
            "_________________________________________________________________\n",
            "Layer (type)                 Output Shape              Param #   \n",
            "=================================================================\n",
            "conv2d_8 (Conv2D)            (None, 198, 198, 16)      448       \n",
            "_________________________________________________________________\n",
            "max_pooling2d_8 (MaxPooling2 (None, 99, 99, 16)        0         \n",
            "_________________________________________________________________\n",
            "conv2d_9 (Conv2D)            (None, 97, 97, 32)        4640      \n",
            "_________________________________________________________________\n",
            "max_pooling2d_9 (MaxPooling2 (None, 48, 48, 32)        0         \n",
            "_________________________________________________________________\n",
            "conv2d_10 (Conv2D)           (None, 46, 46, 64)        18496     \n",
            "_________________________________________________________________\n",
            "max_pooling2d_10 (MaxPooling (None, 23, 23, 64)        0         \n",
            "_________________________________________________________________\n",
            "conv2d_11 (Conv2D)           (None, 21, 21, 128)       73856     \n",
            "_________________________________________________________________\n",
            "max_pooling2d_11 (MaxPooling (None, 10, 10, 128)       0         \n",
            "_________________________________________________________________\n",
            "flatten_2 (Flatten)          (None, 12800)             0         \n",
            "_________________________________________________________________\n",
            "dense_4 (Dense)              (None, 512)               6554112   \n",
            "_________________________________________________________________\n",
            "dense_5 (Dense)              (None, 7)                 3591      \n",
            "=================================================================\n",
            "Total params: 6,655,143\n",
            "Trainable params: 6,655,143\n",
            "Non-trainable params: 0\n",
            "_________________________________________________________________\n",
            "None\n"
          ],
          "name": "stdout"
        }
      ]
    },
    {
      "cell_type": "code",
      "metadata": {
        "id": "_acxK70r6PeO",
        "colab_type": "code",
        "colab": {
          "base_uri": "https://localhost:8080/",
          "height": 534
        },
        "outputId": "5224e963-7dd6-426e-ec83-af982bd69f54"
      },
      "source": [
        "from sklearn import metrics\n",
        "from sklearn.metrics import confusion_matrix\n",
        "from sklearn.metrics import accuracy_score \n",
        "from sklearn.metrics import classification_report \n",
        "import seaborn as sns\n",
        "import pandas as pd\n",
        "import matplotlib.pyplot as plt\n",
        "\n",
        "x=['flower1', 'flower2', 'flower3', 'flower4', 'flower5', 'flower6', 'flower7']\n",
        "\n",
        "p=new_model.predict_classes(final_test_data)+1\n",
        "p1=[]\n",
        "for i in range (len(p)):\n",
        "  p1.append('flower'+str(p[i]))\n",
        "\n",
        "  \n",
        "results = confusion_matrix(final_test_label, p1,labels=x)\n",
        "print ('Confusion Matrix :')\n",
        "print(results) \n",
        "\n",
        "\n",
        "index = ['1','2','3','4','5','6','7']  \n",
        "columns = ['1','2','3','4','5','6','7']  \n",
        "cm_df = pd.DataFrame(results,columns,index)                      \n",
        "plt.figure(figsize=(10,6))  \n",
        "sns.heatmap(cm_df, annot=True)\n"
      ],
      "execution_count": null,
      "outputs": [
        {
          "output_type": "stream",
          "text": [
            "Confusion Matrix :\n",
            "[[30  0  0  0  0  4  0]\n",
            " [ 0 20  0  1  3  0  0]\n",
            " [ 0  0 31  0  0  0  0]\n",
            " [ 0  1  0 21  1  0  0]\n",
            " [ 0  1  0  4 16  0  0]\n",
            " [ 0  0  0  0  0 25  4]\n",
            " [ 1  0  1  0  0  2 32]]\n"
          ],
          "name": "stdout"
        },
        {
          "output_type": "execute_result",
          "data": {
            "text/plain": [
              "<matplotlib.axes._subplots.AxesSubplot at 0x7f0be8556358>"
            ]
          },
          "metadata": {
            "tags": []
          },
          "execution_count": 7
        },
        {
          "output_type": "display_data",
          "data": {
            "image/png": "[encoded data removed]",
            "text/plain": [
              "<Figure size 720x432 with 2 Axes>"
            ]
          },
          "metadata": {
            "tags": [],
            "needs_background": "light"
          }
        }
      ]
    },
    {
      "cell_type": "code",
      "metadata": {
        "id": "dqk5fhAX6a4H",
        "colab_type": "code",
        "colab": {
          "base_uri": "https://localhost:8080/",
          "height": 322
        },
        "outputId": "b88bfea7-7841-4c62-8784-e26c847f6b3a"
      },
      "source": [
        "from PIL import Image\n",
        "import matplotlib.pyplot as plt\n",
        "from matplotlib import image\n",
        "\n",
        "img = Image.open('/content/drive/My Drive/DATA/test/flower4/20191117_171637.jpg')\n",
        "img = np.asarray(img.resize((200, 200), Image.ANTIALIAS))\n",
        "plt.imshow(img)\n",
        "plt.show()\n",
        "p = new_model.predict(np.array([img]))\n",
        "#print('The probability that this is flower 1 is: ' +str(p[0][0]))\n",
        "print('This flower belongs to class: ' ,(np.argmax(p)))\n",
        "print(p)\n"
      ],
      "execution_count": null,
      "outputs": [
        {
          "output_type": "display_data",
          "data": {
            "image/png": "[encoded data removed]",
            "text/plain": [
              "<Figure size 432x288 with 1 Axes>"
            ]
          },
          "metadata": {
            "tags": [],
            "needs_background": "light"
          }
        },
        {
          "output_type": "stream",
          "text": [
            "This flower belongs to class:  3\n",
            "[[8.0912069e-11 5.4646939e-08 1.0312663e-12 9.9731940e-01 2.6806006e-03\n",
            "  6.5760630e-10 1.3856226e-09]]\n"
          ],
          "name": "stdout"
        }
      ]
    },
    {
      "cell_type": "code",
      "metadata": {
        "id": "D8xtlp4V6Vbu",
        "colab_type": "code",
        "colab": {}
      },
      "source": [
        ""
      ],
      "execution_count": null,
      "outputs": []
    },
    {
      "cell_type": "code",
      "metadata": {
        "id": "0H5aWDa46OX_",
        "colab_type": "code",
        "colab": {}
      },
      "source": [
        ""
      ],
      "execution_count": null,
      "outputs": []
    }
  ]
}